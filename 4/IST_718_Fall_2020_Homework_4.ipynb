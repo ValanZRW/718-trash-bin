{
  "nbformat": 4,
  "nbformat_minor": 0,
  "metadata": {
    "kernelspec": {
      "display_name": "Python 3",
      "language": "python",
      "name": "python3"
    },
    "language_info": {
      "codemirror_mode": {
        "name": "ipython",
        "version": 3
      },
      "file_extension": ".py",
      "mimetype": "text/x-python",
      "name": "python",
      "nbconvert_exporter": "python",
      "pygments_lexer": "ipython3",
      "version": "3.6.11"
    },
    "colab": {
      "name": "IST-718 Fall 2020 Homework 4.ipynb",
      "provenance": []
    }
  },
  "cells": [
    {
      "cell_type": "markdown",
      "metadata": {
        "id": "iGiwTVkgLawc"
      },
      "source": [
        "##### Grading Feedback Cell"
      ]
    },
    {
      "cell_type": "markdown",
      "metadata": {
        "id": "hqFMLJNxLawf"
      },
      "source": [
        "# IST 718: Big Data Analytics\n",
        "\n",
        "- Professor: Willard Williamson <wewillia@syr.edu>\n",
        "- Faculty Assistant: Vidushi Mishra <vmishr01@syr.edu>\n",
        "- Faculty Assistant: Pranav Kottoli Radhakrishna <pkottoli@syr.edu>\n",
        "## General instructions:\n",
        "\n",
        "- You are welcome to discuss the problems with your classmates but __you are not allowed to copy any part of your answers from your classmates.  Short code snippets are allowed from the internet.  Code from the class text books or class provided code can be copied in its entirety.__\n",
        "- There could be tests in some cells (i.e., `assert` and `np.testing.` statements). These tests (if present) are used to grade your answers. **However, the professor and FAs could use __additional__ test for your answer. Think about cases where your code should run even if it passess all the tests you see.**\n",
        "- Before submitting your work, remember to check for run time errors with the following procedure:\n",
        "`Kernel`$\\rightarrow$`Restart and Run All`.  All runtime errors will result in a minimum penalty of half off.\n",
        "- Data Bricks is the official class runtime environment so you should test your code on Data Bricks before submission.  If there is a runtime problem in the grading environment, we will try your code on Data Bricks before making a final grading decision.\n",
        "- All plots shall include descriptinve title and axis labels.  Plot legends shall be included where possible.  Unless stated otherwise, plots can be made using any Python plotting package.  It is understood that spark data structures must be converted to something like numpy or pandas prior to making plots.  All required mathematical operations, filtering, selection, etc., required by a homework question shall be performed in spark prior to converting to numpy or pandas.\n",
        "- Grading feedback cells are there for graders to provide feedback to students.  Don't change or remove grading feedback cells.\n",
        "- Don't add or remove files from your git repo.\n",
        "- Do not change file names in your repo.  This also means don't change the title of the ipython notebook.\n",
        "- You are free to add additional code cells around the cells marked `your code here`.\n",
        "- We reserve the right to take points off for operations that are extremely inefficient or \"heavy weight\".  This is a big data class and extremely inefficient operations make a big difference when scaling up to large data sets.  For example, the spark dataframe collect() method is a very heavy weight operation and should not be used unless it there is a real need for it.  An example where collect() might be needed is to get ready to make a plot after filtering a spark dataframe.\n",
        "- import * is not allowed because it is considered a very bad coding practice and in some cases can result in a significant delay (which slows down the grading process) in loading imports.  For example, the statement `from sympy import *` is not allowed.  You must import the specific packages that you need.\n",
        "- If you perform databricks specific operations, you MUST protect those operations in an if statement by calling the is_databricks() function provided in all homework assignments.  For example, if you use dbutils (databricks utilities), only run dbutils commands if is_databricks() returns true.  Runtime errors created in the grading environment by not protecting databricks specific commands in an if statement will result in a runtime error points deduction. \n",
        "- The graders reserve the right to deduct points for subjective things we see with your code.  For example, if we ask you to create a pandas data frame to display values from an investigation and you hard code the values, we will take points off for that.  This is only one of many different things we could find in reviewing your code.  In general, write your code like you are submitting it for a code peer review in industry.  \n",
        "- Level of effort is part of our subjective grading.  Oftentimes there is a large disparity between the level of effort between students who are trying learn, and students who are trying to do the minimum possible to check off an assignment requirement.  For example, in cases where we ask for a more open ended investigation, some students put in significant effort and some students do the minimum possible to meet requirements.  In these cases, we may take points off for students who did not put in much effort as compared to students who did put in a lot of effort.  We feel that the students who did a better job deserve a better grade.  We reserve the right to invoke level of effort grading at any time.\n",
        "- Only use spark, spark machine learning, spark data frames, RDD's, and map reduce to solve all problems unless instructed otherwise.\n",
        "- Unless code is provided which reads data files, __you must use the get_training_filename function povided below to read data files.\"  Runtime errors encountered while grading caused by students not using get_training_filename will result in a minimum of half points off for the problem in question.__"
      ]
    },
    {
      "cell_type": "code",
      "metadata": {
        "id": "IxEeSX5yLsf3",
        "outputId": "faa896c1-3e08-4acb-e360-bcf750c8b99f",
        "colab": {
          "base_uri": "https://localhost:8080/",
          "height": 269
        }
      },
      "source": [
        "# remember to remove this cell\n",
        "!pip install pyspark\n",
        "from google.colab import drive\n",
        "import os\n",
        "drive.mount('/content/drive')\n",
        "os.chdir('/content/drive/My Drive/homework-4-ValanZRW-master')\n",
        "!ls\n"
      ],
      "execution_count": 2,
      "outputs": [
        {
          "output_type": "stream",
          "text": [
            "Collecting pyspark\n",
            "\u001b[?25l  Downloading https://files.pythonhosted.org/packages/f0/26/198fc8c0b98580f617cb03cb298c6056587b8f0447e20fa40c5b634ced77/pyspark-3.0.1.tar.gz (204.2MB)\n",
            "\u001b[K     |████████████████████████████████| 204.2MB 71kB/s \n",
            "\u001b[?25hCollecting py4j==0.10.9\n",
            "\u001b[?25l  Downloading https://files.pythonhosted.org/packages/9e/b6/6a4fb90cd235dc8e265a6a2067f2a2c99f0d91787f06aca4bcf7c23f3f80/py4j-0.10.9-py2.py3-none-any.whl (198kB)\n",
            "\u001b[K     |████████████████████████████████| 204kB 45.3MB/s \n",
            "\u001b[?25hBuilding wheels for collected packages: pyspark\n",
            "  Building wheel for pyspark (setup.py) ... \u001b[?25l\u001b[?25hdone\n",
            "  Created wheel for pyspark: filename=pyspark-3.0.1-py2.py3-none-any.whl size=204612243 sha256=558884fed3f5eb595662d90200f7e984c00aaeac07324f2e32813a1cbf4f4c2e\n",
            "  Stored in directory: /root/.cache/pip/wheels/5e/bd/07/031766ca628adec8435bb40f0bd83bb676ce65ff4007f8e73f\n",
            "Successfully built pyspark\n",
            "Installing collected packages: py4j, pyspark\n",
            "Successfully installed py4j-0.10.9 pyspark-3.0.1\n",
            "Mounted at /content/drive\n",
            "'IST-718 Fall 2020 Homework 4.ipynb'   tweets.csv\n"
          ],
          "name": "stdout"
        }
      ]
    },
    {
      "cell_type": "code",
      "metadata": {
        "id": "WOoJ36m5Lawg"
      },
      "source": [
        "# Do not delete or change this cell\n",
        "\n",
        "enable_grid = True\n",
        "\n",
        "# grading import statements\n",
        "%matplotlib inline\n",
        "from pyspark.sql import SparkSession\n",
        "from pyspark.sql import SQLContext\n",
        "spark = SparkSession.builder.getOrCreate()\n",
        "sc = spark.sparkContext\n",
        "sqlContext = SQLContext(sc)\n",
        "import os\n",
        "\n",
        "# Define a function to determine if we are running on data bricks\n",
        "# Return true if running in the data bricks environment, false otherwise\n",
        "def is_databricks():\n",
        "    # get the databricks runtime version\n",
        "    db_env = os.getenv(\"DATABRICKS_RUNTIME_VERSION\")\n",
        "    \n",
        "    # if running on data bricks\n",
        "    if db_env != None:\n",
        "        return True\n",
        "    else:\n",
        "        return False\n",
        "\n",
        "# Define a function to read the data file.  The full path data file name is constructed\n",
        "# by checking runtime environment variables to determine if the runtime environment is \n",
        "# databricks, or a student's personal computer.  The full path file name is then\n",
        "# constructed based on the runtime env.\n",
        "# \n",
        "# Params\n",
        "#   data_file_name: The base name of the data file to load\n",
        "# \n",
        "# Returns the full path file name based on the runtime env\n",
        "#\n",
        "# Correct Usage Example (pass ONLY the full file name):\n",
        "#   file_name_to_load = get_training_filename(\"sms_spam.csv\") # correct - pass ONLY the full file name  \n",
        "#   \n",
        "# Incorrect Usage Example\n",
        "#   file_name_to_load = get_training_filename(\"/sms_spam.csv\") # incorrect - pass ONLY the full file name\n",
        "#   file_name_to_load = get_training_filename(\"sms_spam.csv/\") # incorrect - pass ONLY the full file name\n",
        "#   file_name_to_load = get_training_filename(\"c:/users/will/data/sms_spam.csv\") incorrect -pass ONLY the full file name\n",
        "def get_training_filename(data_file_name):    \n",
        "    # if running on data bricks\n",
        "    if is_databricks():\n",
        "        # build the full path file name assuming data brick env\n",
        "        full_path_name = \"dbfs:/FileStore/tables/%s\" % data_file_name\n",
        "    # else the data is assumed to be in the same dir as this notebook\n",
        "    else:\n",
        "        # Assume the student is running on their own computer and load the data\n",
        "        # file from the same dir as this notebook\n",
        "        full_path_name = data_file_name\n",
        "    \n",
        "    # return the full path file name to the caller\n",
        "    return full_path_name"
      ],
      "execution_count": 3,
      "outputs": []
    },
    {
      "cell_type": "markdown",
      "metadata": {
        "id": "xiVfWvdZLawl"
      },
      "source": [
        "# Sentiment Analysis\n",
        "In this assignment, you will use the tweets.csv file to perform sentiment analysis. The tweets.csv file contains the following columns:\n",
        "- target: the polarity of the tweet (0 = negative, 4 = positive)\n",
        "- ids: The id of the tweet ( 2087)\n",
        "- date: the date of the tweet (Sat May 16 23:58:44 UTC 2009)\n",
        "- flag: The query (lyx). If there is no query, then this value is NO_QUERY.\n",
        "- user: the user that tweeted (robotickilldozr)\n",
        "- text: the text of the tweet (Lyx is cool)"
      ]
    },
    {
      "cell_type": "markdown",
      "metadata": {
        "id": "XvT3AQH9Lawl"
      },
      "source": [
        "# Qustion 1: (10 pts)\n",
        "Read tweets.csv into a spark dataframe named `tweets_df`.  Solutions that do not use `get_training_filename` will be heavily penalized.  Drop all columns except target and text.  Transform the target column such that a negative sentiment is equal to 0 and a positive sentiment is equal to 1.  Determine and print the percentage of positive and negative tweets in the dataframe such that it's easy for the graders to find and interpret your data."
      ]
    },
    {
      "cell_type": "code",
      "metadata": {
        "id": "Aq675TtHLawm",
        "outputId": "5078ea5f-e61c-424f-99ff-3db5a38887de",
        "colab": {
          "base_uri": "https://localhost:8080/",
          "height": 134
        }
      },
      "source": [
        "# your code here\n",
        "from pyspark.sql import functions as F\n",
        "\n",
        "file_name = get_training_filename(\"tweets.csv\")\n",
        "tweets_df = spark.read.csv(file_name, header=True, inferSchema=True)\n",
        "tweets_df = tweets_df.select(\"target\", \"text\")\n",
        "\n",
        "update_func = (F.when(F.col('target')>0, 1)\n",
        "                .otherwise(0))\n",
        "tweets_df = tweets_df.withColumn('target', update_func)\n",
        "\n",
        "tweets_df.groupBy('target').agg(F.count('*')).show()"
      ],
      "execution_count": 80,
      "outputs": [
        {
          "output_type": "stream",
          "text": [
            "+------+--------+\n",
            "|target|count(1)|\n",
            "+------+--------+\n",
            "|     1|   50000|\n",
            "|     0|   50000|\n",
            "+------+--------+\n",
            "\n"
          ],
          "name": "stdout"
        }
      ]
    },
    {
      "cell_type": "code",
      "metadata": {
        "id": "R1sI3MKNLawq",
        "outputId": "5c738c1f-854f-4133-e077-e0dffc0a6909",
        "colab": {
          "base_uri": "https://localhost:8080/",
          "height": 212
        }
      },
      "source": [
        "# grading cell do not modify\n",
        "tweets_pd = tweets_df.toPandas()\n",
        "display(tweets_pd.head())\n",
        "print(tweets_pd.shape)"
      ],
      "execution_count": 81,
      "outputs": [
        {
          "output_type": "display_data",
          "data": {
            "text/html": [
              "<div>\n",
              "<style scoped>\n",
              "    .dataframe tbody tr th:only-of-type {\n",
              "        vertical-align: middle;\n",
              "    }\n",
              "\n",
              "    .dataframe tbody tr th {\n",
              "        vertical-align: top;\n",
              "    }\n",
              "\n",
              "    .dataframe thead th {\n",
              "        text-align: right;\n",
              "    }\n",
              "</style>\n",
              "<table border=\"1\" class=\"dataframe\">\n",
              "  <thead>\n",
              "    <tr style=\"text-align: right;\">\n",
              "      <th></th>\n",
              "      <th>target</th>\n",
              "      <th>text</th>\n",
              "    </tr>\n",
              "  </thead>\n",
              "  <tbody>\n",
              "    <tr>\n",
              "      <th>0</th>\n",
              "      <td>1</td>\n",
              "      <td>I LOVE @Health4UandPets u guys r the best!!</td>\n",
              "    </tr>\n",
              "    <tr>\n",
              "      <th>1</th>\n",
              "      <td>1</td>\n",
              "      <td>im meeting up with one of my besties tonight! ...</td>\n",
              "    </tr>\n",
              "    <tr>\n",
              "      <th>2</th>\n",
              "      <td>1</td>\n",
              "      <td>@DaRealSunisaKim Thanks for the Twitter add, S...</td>\n",
              "    </tr>\n",
              "    <tr>\n",
              "      <th>3</th>\n",
              "      <td>1</td>\n",
              "      <td>Being sick can be really cheap when it hurts t...</td>\n",
              "    </tr>\n",
              "    <tr>\n",
              "      <th>4</th>\n",
              "      <td>1</td>\n",
              "      <td>@LovesBrooklyn2 he has that effect on everyone</td>\n",
              "    </tr>\n",
              "  </tbody>\n",
              "</table>\n",
              "</div>"
            ],
            "text/plain": [
              "   target                                               text\n",
              "0       1       I LOVE @Health4UandPets u guys r the best!! \n",
              "1       1  im meeting up with one of my besties tonight! ...\n",
              "2       1  @DaRealSunisaKim Thanks for the Twitter add, S...\n",
              "3       1  Being sick can be really cheap when it hurts t...\n",
              "4       1    @LovesBrooklyn2 he has that effect on everyone "
            ]
          },
          "metadata": {
            "tags": []
          }
        },
        {
          "output_type": "stream",
          "text": [
            "(100000, 2)\n"
          ],
          "name": "stdout"
        }
      ]
    },
    {
      "cell_type": "markdown",
      "metadata": {
        "id": "3SWAQ2PyLawu"
      },
      "source": [
        "##### Grading Feedback Cell"
      ]
    },
    {
      "cell_type": "markdown",
      "metadata": {
        "id": "3mMfYrYMLawv"
      },
      "source": [
        "# Question 2: (10 pts)\n",
        "Pre-process the data by creating a pipeline named `tweets_pre_proc_pipe`. Your pipeline should tokenize, remove stop words, and do a TF-IDF transformation.  Fit and execute your pipeline, and create a new dataframe named `tweets_pre_proc_df`.  Print the shape of the resulting TF-IDF data such that it's easy for the graders to find and understand as num rows x num words. Based on the shape of the TF-IDF data, would you expect a logistic regression model to overfit?"
      ]
    },
    {
      "cell_type": "code",
      "metadata": {
        "id": "MrxHo0Q7Lawv",
        "outputId": "40d79129-8350-4c20-cc04-f46a61a15a51",
        "colab": {
          "base_uri": "https://localhost:8080/",
          "height": 50
        }
      },
      "source": [
        "# your code here\n",
        "from pyspark.ml import Pipeline\n",
        "from pyspark.ml.feature import RegexTokenizer\n",
        "from pyspark.ml.feature import StopWordsRemover\n",
        "from pyspark.ml.feature import IDF\n",
        "from pyspark.ml.feature import CountVectorizer\n",
        "\n",
        "import requests\n",
        "stop_words = requests.get('http://ir.dcs.gla.ac.uk/resources/linguistic_utils/stop_words').text.split()\n",
        "\n",
        "tokenize = RegexTokenizer().setGaps(False)\\\n",
        "  .setPattern(\"\\\\p{L}+\")\\\n",
        "  .setInputCol(\"text\")\\\n",
        "  .setOutputCol(\"words\")\n",
        "remove_stop_words = StopWordsRemover()\\\n",
        "  .setStopWords(stop_words)\\\n",
        "  .setCaseSensitive(True)\\\n",
        "  .setInputCol(\"words\")\\\n",
        "  .setOutputCol(\"filtered\")\n",
        "cv = CountVectorizer(minTF=1., minDF=5., vocabSize=2**17)\\\n",
        "  .setInputCol(\"filtered\")\\\n",
        "  .setOutputCol(\"tf\")\n",
        "idf = IDF()\\\n",
        "  .setInputCol('tf')\\\n",
        "  .setOutputCol('tfidf')\n",
        "\n",
        "tweets_pre_proc_pipe = Pipeline(stages = [tokenize, remove_stop_words, cv, idf]).fit(tweets_df)\n",
        "tweets_pre_proc_df = tweets_pre_proc_pipe.transform(tweets_df)\n",
        "\n",
        "print(\"num rows: \", 100000)\n",
        "print(\"num words: \", len(tweets_pre_proc_pipe.stages[-2].vocabulary))"
      ],
      "execution_count": 82,
      "outputs": [
        {
          "output_type": "stream",
          "text": [
            "num rows:  100000\n",
            "num words:  11099\n"
          ],
          "name": "stdout"
        }
      ]
    },
    {
      "cell_type": "code",
      "metadata": {
        "id": "zrDnEMX3Lawz",
        "outputId": "44922054-9488-4206-8fca-524fd2445be9",
        "colab": {
          "base_uri": "https://localhost:8080/",
          "height": 279
        }
      },
      "source": [
        "# grading cell do not modify\n",
        "display(tweets_pre_proc_df.toPandas().head())"
      ],
      "execution_count": 83,
      "outputs": [
        {
          "output_type": "display_data",
          "data": {
            "text/html": [
              "<div>\n",
              "<style scoped>\n",
              "    .dataframe tbody tr th:only-of-type {\n",
              "        vertical-align: middle;\n",
              "    }\n",
              "\n",
              "    .dataframe tbody tr th {\n",
              "        vertical-align: top;\n",
              "    }\n",
              "\n",
              "    .dataframe thead th {\n",
              "        text-align: right;\n",
              "    }\n",
              "</style>\n",
              "<table border=\"1\" class=\"dataframe\">\n",
              "  <thead>\n",
              "    <tr style=\"text-align: right;\">\n",
              "      <th></th>\n",
              "      <th>target</th>\n",
              "      <th>text</th>\n",
              "      <th>words</th>\n",
              "      <th>filtered</th>\n",
              "      <th>tf</th>\n",
              "      <th>tfidf</th>\n",
              "    </tr>\n",
              "  </thead>\n",
              "  <tbody>\n",
              "    <tr>\n",
              "      <th>0</th>\n",
              "      <td>1</td>\n",
              "      <td>I LOVE @Health4UandPets u guys r the best!!</td>\n",
              "      <td>[i, love, health, uandpets, u, guys, r, the, b...</td>\n",
              "      <td>[love, health, uandpets, u, guys, r, best]</td>\n",
              "      <td>(0.0, 0.0, 0.0, 0.0, 0.0, 0.0, 0.0, 0.0, 0.0, ...</td>\n",
              "      <td>(0.0, 0.0, 0.0, 0.0, 0.0, 0.0, 0.0, 0.0, 0.0, ...</td>\n",
              "    </tr>\n",
              "    <tr>\n",
              "      <th>1</th>\n",
              "      <td>1</td>\n",
              "      <td>im meeting up with one of my besties tonight! ...</td>\n",
              "      <td>[im, meeting, up, with, one, of, my, besties, ...</td>\n",
              "      <td>[im, meeting, besties, tonight, wait, girl, talk]</td>\n",
              "      <td>(0.0, 0.0, 0.0, 0.0, 0.0, 0.0, 0.0, 0.0, 0.0, ...</td>\n",
              "      <td>(0.0, 0.0, 0.0, 0.0, 0.0, 0.0, 0.0, 0.0, 0.0, ...</td>\n",
              "    </tr>\n",
              "    <tr>\n",
              "      <th>2</th>\n",
              "      <td>1</td>\n",
              "      <td>@DaRealSunisaKim Thanks for the Twitter add, S...</td>\n",
              "      <td>[darealsunisakim, thanks, for, the, twitter, a...</td>\n",
              "      <td>[darealsunisakim, thanks, twitter, add, sunisa...</td>\n",
              "      <td>(0.0, 0.0, 0.0, 0.0, 0.0, 0.0, 0.0, 0.0, 0.0, ...</td>\n",
              "      <td>(0.0, 0.0, 0.0, 0.0, 0.0, 0.0, 0.0, 0.0, 0.0, ...</td>\n",
              "    </tr>\n",
              "    <tr>\n",
              "      <th>3</th>\n",
              "      <td>1</td>\n",
              "      <td>Being sick can be really cheap when it hurts t...</td>\n",
              "      <td>[being, sick, can, be, really, cheap, when, it...</td>\n",
              "      <td>[sick, really, cheap, hurts, eat, real, food, ...</td>\n",
              "      <td>(0.0, 0.0, 0.0, 0.0, 0.0, 0.0, 0.0, 0.0, 0.0, ...</td>\n",
              "      <td>(0.0, 0.0, 0.0, 0.0, 0.0, 0.0, 0.0, 0.0, 0.0, ...</td>\n",
              "    </tr>\n",
              "    <tr>\n",
              "      <th>4</th>\n",
              "      <td>1</td>\n",
              "      <td>@LovesBrooklyn2 he has that effect on everyone</td>\n",
              "      <td>[lovesbrooklyn, he, has, that, effect, on, eve...</td>\n",
              "      <td>[lovesbrooklyn, effect]</td>\n",
              "      <td>(0.0, 0.0, 0.0, 0.0, 0.0, 0.0, 0.0, 0.0, 0.0, ...</td>\n",
              "      <td>(0.0, 0.0, 0.0, 0.0, 0.0, 0.0, 0.0, 0.0, 0.0, ...</td>\n",
              "    </tr>\n",
              "  </tbody>\n",
              "</table>\n",
              "</div>"
            ],
            "text/plain": [
              "   target  ...                                              tfidf\n",
              "0       1  ...  (0.0, 0.0, 0.0, 0.0, 0.0, 0.0, 0.0, 0.0, 0.0, ...\n",
              "1       1  ...  (0.0, 0.0, 0.0, 0.0, 0.0, 0.0, 0.0, 0.0, 0.0, ...\n",
              "2       1  ...  (0.0, 0.0, 0.0, 0.0, 0.0, 0.0, 0.0, 0.0, 0.0, ...\n",
              "3       1  ...  (0.0, 0.0, 0.0, 0.0, 0.0, 0.0, 0.0, 0.0, 0.0, ...\n",
              "4       1  ...  (0.0, 0.0, 0.0, 0.0, 0.0, 0.0, 0.0, 0.0, 0.0, ...\n",
              "\n",
              "[5 rows x 6 columns]"
            ]
          },
          "metadata": {
            "tags": []
          }
        }
      ]
    },
    {
      "cell_type": "markdown",
      "metadata": {
        "id": "-_Ij392yLaw3"
      },
      "source": [
        "Your explanation here: "
      ]
    },
    {
      "cell_type": "markdown",
      "metadata": {
        "id": "_VrtvobwLaw4"
      },
      "source": [
        "##### Grading Feedback Cell"
      ]
    },
    {
      "cell_type": "markdown",
      "metadata": {
        "id": "CrjPPJEjLaw5"
      },
      "source": [
        "# Question 3: (10 pts)\n",
        "Since IDF considers a word's frequency across all documents in a corpus, you can use IDF as a form of inference.  Examine the documentation for the spark ML object that you used to create TF-IDF scores and learn how to extract the IDF scores for words in the corpus.  Create a pandas dataframe containing the 5 most important IDF scores named `most_imp_idf`.  Create another pandas dataframe containing the 5 least important IDF scores named `least_imp_idf`.  Each dataframe shall have 2 columns named `word` and `idf_score`.  Explain in words your interpretation of what the IDF scores mean."
      ]
    },
    {
      "cell_type": "code",
      "metadata": {
        "id": "AwDrXWjmLaw5"
      },
      "source": [
        "# your code here\n",
        "import pandas as pd\n",
        "\n",
        "tfidf_pd = pd.DataFrame({'word': tweets_pre_proc_pipe.stages[-2].vocabulary, 'tfidf': tweets_pre_proc_pipe.stages[-1].idf.toArray()})\n",
        "most_imp_idf = tfidf_pd.sort_values('tfidf').head(5)\n",
        "least_imp_idf = tfidf_pd.sort_values('score', ascending=False).head(5)"
      ],
      "execution_count": null,
      "outputs": []
    },
    {
      "cell_type": "code",
      "metadata": {
        "id": "XGHKjhUpLaw-",
        "outputId": "94dacfc4-b322-4e1a-9242-10151fbec45f",
        "colab": {
          "base_uri": "https://localhost:8080/",
          "height": 374
        }
      },
      "source": [
        "# grading cell do not modify\n",
        "display(most_imp_idf)\n",
        "display(least_imp_idf)"
      ],
      "execution_count": 44,
      "outputs": [
        {
          "output_type": "display_data",
          "data": {
            "text/html": [
              "<div>\n",
              "<style scoped>\n",
              "    .dataframe tbody tr th:only-of-type {\n",
              "        vertical-align: middle;\n",
              "    }\n",
              "\n",
              "    .dataframe tbody tr th {\n",
              "        vertical-align: top;\n",
              "    }\n",
              "\n",
              "    .dataframe thead th {\n",
              "        text-align: right;\n",
              "    }\n",
              "</style>\n",
              "<table border=\"1\" class=\"dataframe\">\n",
              "  <thead>\n",
              "    <tr style=\"text-align: right;\">\n",
              "      <th></th>\n",
              "      <th>word</th>\n",
              "      <th>tfidf</th>\n",
              "    </tr>\n",
              "  </thead>\n",
              "  <tbody>\n",
              "    <tr>\n",
              "      <th>1</th>\n",
              "      <td>t</td>\n",
              "      <td>2.232416</td>\n",
              "    </tr>\n",
              "    <tr>\n",
              "      <th>0</th>\n",
              "      <td>s</td>\n",
              "      <td>2.247728</td>\n",
              "    </tr>\n",
              "    <tr>\n",
              "      <th>2</th>\n",
              "      <td>m</td>\n",
              "      <td>2.549391</td>\n",
              "    </tr>\n",
              "    <tr>\n",
              "      <th>3</th>\n",
              "      <td>just</td>\n",
              "      <td>2.568907</td>\n",
              "    </tr>\n",
              "    <tr>\n",
              "      <th>4</th>\n",
              "      <td>good</td>\n",
              "      <td>2.873348</td>\n",
              "    </tr>\n",
              "  </tbody>\n",
              "</table>\n",
              "</div>"
            ],
            "text/plain": [
              "   word     tfidf\n",
              "1     t  2.232416\n",
              "0     s  2.247728\n",
              "2     m  2.549391\n",
              "3  just  2.568907\n",
              "4  good  2.873348"
            ]
          },
          "metadata": {
            "tags": []
          }
        },
        {
          "output_type": "display_data",
          "data": {
            "text/html": [
              "<div>\n",
              "<style scoped>\n",
              "    .dataframe tbody tr th:only-of-type {\n",
              "        vertical-align: middle;\n",
              "    }\n",
              "\n",
              "    .dataframe tbody tr th {\n",
              "        vertical-align: top;\n",
              "    }\n",
              "\n",
              "    .dataframe thead th {\n",
              "        text-align: right;\n",
              "    }\n",
              "</style>\n",
              "<table border=\"1\" class=\"dataframe\">\n",
              "  <thead>\n",
              "    <tr style=\"text-align: right;\">\n",
              "      <th></th>\n",
              "      <th>word</th>\n",
              "      <th>tfidf</th>\n",
              "    </tr>\n",
              "  </thead>\n",
              "  <tbody>\n",
              "    <tr>\n",
              "      <th>11098</th>\n",
              "      <td>freezes</td>\n",
              "      <td>9.721176</td>\n",
              "    </tr>\n",
              "    <tr>\n",
              "      <th>10045</th>\n",
              "      <td>uf</td>\n",
              "      <td>9.721176</td>\n",
              "    </tr>\n",
              "    <tr>\n",
              "      <th>10047</th>\n",
              "      <td>closes</td>\n",
              "      <td>9.721176</td>\n",
              "    </tr>\n",
              "    <tr>\n",
              "      <th>10048</th>\n",
              "      <td>sangria</td>\n",
              "      <td>9.721176</td>\n",
              "    </tr>\n",
              "    <tr>\n",
              "      <th>10049</th>\n",
              "      <td>jensen</td>\n",
              "      <td>9.721176</td>\n",
              "    </tr>\n",
              "  </tbody>\n",
              "</table>\n",
              "</div>"
            ],
            "text/plain": [
              "          word     tfidf\n",
              "11098  freezes  9.721176\n",
              "10045       uf  9.721176\n",
              "10047   closes  9.721176\n",
              "10048  sangria  9.721176\n",
              "10049   jensen  9.721176"
            ]
          },
          "metadata": {
            "tags": []
          }
        }
      ]
    },
    {
      "cell_type": "markdown",
      "metadata": {
        "id": "LnVS_jK0LaxC"
      },
      "source": [
        "Your explanation here: "
      ]
    },
    {
      "cell_type": "markdown",
      "metadata": {
        "id": "wThiAKutLaxC"
      },
      "source": [
        "##### Grading Feedback Cell"
      ]
    },
    {
      "cell_type": "markdown",
      "metadata": {
        "id": "UEQvn7qJLaxE"
      },
      "source": [
        "# Question 4: (10 pts)\n",
        "Create a new recursive pipeline named `lr_pipe` which starts with `tweets_pre_proc_pipe` and adds a logistic regression model using default hyper parameters.  Fit lr_pipe using `tweets_df`.  Score the model using ROC AUC.  Report the resulting AUC such that it is easy for graders to find and interpret."
      ]
    },
    {
      "cell_type": "code",
      "metadata": {
        "id": "YbYBf6kHLaxF",
        "outputId": "b22906a9-954e-464e-cd5a-1b68fb38dbed",
        "colab": {
          "base_uri": "https://localhost:8080/",
          "height": 34
        }
      },
      "source": [
        "# your code here\n",
        "from pyspark.ml.classification import LogisticRegression\n",
        "from pyspark.ml.evaluation import BinaryClassificationEvaluator\n",
        "\n",
        "training_df, validation_df, testing_df = tweets_df.randomSplit([0.6, 0.3, 0.1], seed=0)\n",
        "\n",
        "lr = LogisticRegression().\\\n",
        "    setLabelCol('target').\\\n",
        "    setFeaturesCol('tfidf').\\\n",
        "    setRegParam(0.0).\\\n",
        "    setMaxIter(100).\\\n",
        "    setElasticNetParam(0.)\n",
        "\n",
        "lr_pipe = Pipeline(stages=[tweets_pre_proc_pipe, lr])\n",
        "\n",
        "evaluator = BinaryClassificationEvaluator(rawPredictionCol='prediction', labelCol='target', metricName='areaUnderROC')\n",
        "auc = evaluator.evaluate(lr_pipe.fit(training_df).transform(validation_df))\n",
        "print(\"AUC\", auc)"
      ],
      "execution_count": 59,
      "outputs": [
        {
          "output_type": "stream",
          "text": [
            "AUC 0.7170722128246855\n"
          ],
          "name": "stdout"
        }
      ]
    },
    {
      "cell_type": "markdown",
      "metadata": {
        "id": "Jm_uKeKMLaxJ"
      },
      "source": [
        "##### Grading Feedback Cell"
      ]
    },
    {
      "cell_type": "markdown",
      "metadata": {
        "id": "NIIUwQ77LaxK"
      },
      "source": [
        "# Question 5: (10 pts)\n",
        "Create 2 pandas dataframes named `lr_pipe_df_neg` and `lr_pipe_df_pos`which contain 2 colunms: `word` and `score`.  Load the 2 dataframes with the top 10 words and logistic regression coefficients that contribute the most to negative and positive sentiments respectively. Analyze the 2 dataframes and describe if the words make sense.  Do the words look like they are really negative and positive?"
      ]
    },
    {
      "cell_type": "code",
      "metadata": {
        "id": "-gzdUBdULaxK",
        "outputId": "91297938-3795-4353-8dd1-500695c005d2",
        "colab": {
          "base_uri": "https://localhost:8080/",
          "height": 50
        }
      },
      "source": [
        "# your code here\n",
        "import pandas as pd\n",
        "vocabulary = tweets_pre_proc_pipe.stages[-2].vocabulary\n",
        "weights = lr_pipe.fit(training_df)stages[-1].coefficients.toArray()\n",
        "\n",
        "coeffs_df = pd.DataFrame({'word': vocabulary, 'score': weights})\n",
        "\n",
        "lr_pipe_df_pos = coeffs_df.sort_values('score').head(10)\n",
        "lr_pipe_df_neg = coeffs_df.sort_values('score', ascending=False).head(10)"
      ],
      "execution_count": 45,
      "outputs": [
        {
          "output_type": "stream",
          "text": [
            "num weights: 11099\n",
            "num rows: 29907\n"
          ],
          "name": "stdout"
        }
      ]
    },
    {
      "cell_type": "code",
      "metadata": {
        "id": "bBwxWMdQLaxN",
        "outputId": "b081f09b-88c8-41d3-909a-bc32518640fb",
        "colab": {
          "base_uri": "https://localhost:8080/",
          "height": 374
        }
      },
      "source": [
        "# grading cell - do not modify\n",
        "display(lr_pipe_df_neg)\n",
        "display(lr_pipe_df_pos)"
      ],
      "execution_count": 46,
      "outputs": [
        {
          "output_type": "display_data",
          "data": {
            "text/html": [
              "<div>\n",
              "<style scoped>\n",
              "    .dataframe tbody tr th:only-of-type {\n",
              "        vertical-align: middle;\n",
              "    }\n",
              "\n",
              "    .dataframe tbody tr th {\n",
              "        vertical-align: top;\n",
              "    }\n",
              "\n",
              "    .dataframe thead th {\n",
              "        text-align: right;\n",
              "    }\n",
              "</style>\n",
              "<table border=\"1\" class=\"dataframe\">\n",
              "  <thead>\n",
              "    <tr style=\"text-align: right;\">\n",
              "      <th></th>\n",
              "      <th>word</th>\n",
              "      <th>score</th>\n",
              "    </tr>\n",
              "  </thead>\n",
              "  <tbody>\n",
              "    <tr>\n",
              "      <th>7738</th>\n",
              "      <td>essential</td>\n",
              "      <td>8.162442</td>\n",
              "    </tr>\n",
              "    <tr>\n",
              "      <th>10099</th>\n",
              "      <td>gratitude</td>\n",
              "      <td>5.667098</td>\n",
              "    </tr>\n",
              "    <tr>\n",
              "      <th>10309</th>\n",
              "      <td>tau</td>\n",
              "      <td>5.589913</td>\n",
              "    </tr>\n",
              "    <tr>\n",
              "      <th>9393</th>\n",
              "      <td>monte</td>\n",
              "      <td>5.191918</td>\n",
              "    </tr>\n",
              "    <tr>\n",
              "      <th>8318</th>\n",
              "      <td>instantly</td>\n",
              "      <td>4.659742</td>\n",
              "    </tr>\n",
              "  </tbody>\n",
              "</table>\n",
              "</div>"
            ],
            "text/plain": [
              "            word     score\n",
              "7738   essential  8.162442\n",
              "10099  gratitude  5.667098\n",
              "10309        tau  5.589913\n",
              "9393       monte  5.191918\n",
              "8318   instantly  4.659742"
            ]
          },
          "metadata": {
            "tags": []
          }
        },
        {
          "output_type": "display_data",
          "data": {
            "text/html": [
              "<div>\n",
              "<style scoped>\n",
              "    .dataframe tbody tr th:only-of-type {\n",
              "        vertical-align: middle;\n",
              "    }\n",
              "\n",
              "    .dataframe tbody tr th {\n",
              "        vertical-align: top;\n",
              "    }\n",
              "\n",
              "    .dataframe thead th {\n",
              "        text-align: right;\n",
              "    }\n",
              "</style>\n",
              "<table border=\"1\" class=\"dataframe\">\n",
              "  <thead>\n",
              "    <tr style=\"text-align: right;\">\n",
              "      <th></th>\n",
              "      <th>word</th>\n",
              "      <th>score</th>\n",
              "    </tr>\n",
              "  </thead>\n",
              "  <tbody>\n",
              "    <tr>\n",
              "      <th>7030</th>\n",
              "      <td>quï</td>\n",
              "      <td>-5.783827</td>\n",
              "    </tr>\n",
              "    <tr>\n",
              "      <th>9506</th>\n",
              "      <td>sheamus</td>\n",
              "      <td>-5.425048</td>\n",
              "    </tr>\n",
              "    <tr>\n",
              "      <th>10453</th>\n",
              "      <td>chunk</td>\n",
              "      <td>-5.361132</td>\n",
              "    </tr>\n",
              "    <tr>\n",
              "      <th>2596</th>\n",
              "      <td>sebby</td>\n",
              "      <td>-4.701627</td>\n",
              "    </tr>\n",
              "    <tr>\n",
              "      <th>9875</th>\n",
              "      <td>herb</td>\n",
              "      <td>-4.624088</td>\n",
              "    </tr>\n",
              "  </tbody>\n",
              "</table>\n",
              "</div>"
            ],
            "text/plain": [
              "          word     score\n",
              "7030       quï -5.783827\n",
              "9506   sheamus -5.425048\n",
              "10453    chunk -5.361132\n",
              "2596     sebby -4.701627\n",
              "9875      herb -4.624088"
            ]
          },
          "metadata": {
            "tags": []
          }
        }
      ]
    },
    {
      "cell_type": "markdown",
      "metadata": {
        "id": "I7E7f-vjLaxT"
      },
      "source": [
        "Your explanation here:"
      ]
    },
    {
      "cell_type": "markdown",
      "metadata": {
        "id": "H6AxdY1ILaxT"
      },
      "source": [
        "##### Grading Feedback Cell"
      ]
    },
    {
      "cell_type": "markdown",
      "metadata": {
        "id": "Bh94ZPdkLaxU"
      },
      "source": [
        "# Question 6a: (5 pts)\n",
        "The goal of this question is to try to improve the score from question 4 using a regularization grid search on a new pipeline named `lr_pipe_1`. lr_pipe_1 is the same as lr_pipe above but we would like you to create a new pipe for grading purposes only.  I'm not sure if it's possible to increase the score or not.  You will be graded on level of effort to increase the score in relation to other students in the class.  All of your grid search code should be inside the `if enable_grid` statement in the cell below.  The enable_grid boolean is set to true in a grading cell above.  If any of the grid search code executes outside of the if statement, you will not get full credit for the question.  We want the ability to turn off the grid search during grading.<br>"
      ]
    },
    {
      "cell_type": "code",
      "metadata": {
        "id": "uyDMP9tLLaxV",
        "outputId": "3f7ce0f1-ac7e-4f39-b7f6-f182d255ac3d",
        "colab": {
          "base_uri": "https://localhost:8080/",
          "height": 168
        }
      },
      "source": [
        "# your grid search (and only your grid search) code here\n",
        "if enable_grid:\n",
        "  # your grid search code here\n",
        "\n",
        "  from pyspark.ml.tuning import ParamGridBuilder\n",
        "  \n",
        "  lr_pipe_1 = lr_pipe\n",
        "  grid = ParamGridBuilder().\\\n",
        "      addGrid(lr.regParam, [0., 0.01, 0.02]).\\\n",
        "      addGrid(lr.elasticNetParam, [0., 0.2, 0.4]).\\\n",
        "      build()\n",
        "  \n",
        "  all_models = []\n",
        "  for j in range(len(grid)):\n",
        "    print(\"Fitting model {}\".format(j+1))\n",
        "    model = lr_pipe_1.fit(training_df, grid[j])\n",
        "    all_models.append(model)\n",
        "\n",
        "  import numpy as np\n",
        "\n",
        "  accuracies = [m.\\\n",
        "    transform(validation_df).\\\n",
        "    select(F.avg(F.expr('float(target = prediction)')).alias('accuracy')).\\\n",
        "    first().\\\n",
        "    accuracy for m in all_models]\n",
        "\n",
        "  best_model_idx = np.argmax(accuracies)\n",
        "  best_model = all_models[best_model_idx]\n",
        "  print(\"Best accuracy: \", accuracies[best_model_idx])\n",
        "  print(\"Best grid: \", grid[best_model_idx])\n",
        "  pass"
      ],
      "execution_count": 60,
      "outputs": [
        {
          "output_type": "stream",
          "text": [
            "Fitting model 1\n",
            "Fitting model 2\n",
            "Fitting model 3\n",
            "Fitting model 4\n",
            "Fitting model 5\n",
            "Fitting model 6\n",
            "Fitting model 7\n",
            "Fitting model 8\n",
            "Fitting model 9\n"
          ],
          "name": "stdout"
        }
      ]
    },
    {
      "cell_type": "markdown",
      "metadata": {
        "id": "7XrmIbvULaxY"
      },
      "source": [
        "##### Grading feedback cell"
      ]
    },
    {
      "cell_type": "markdown",
      "metadata": {
        "id": "ik0I5Zy4LaxZ"
      },
      "source": [
        "# Question 6b (5 pts)\n",
        "Build a new pipeline named `lr_pipe_2` which uses the optimized model parameters from the grid search in question 6a above (the best model).  Create 2 variables named alpha and lambda and assign to them the best alpha and lambda produced by the grid search by hard coding the values. Fit and transform lr_pipe_2.  Compare AUC scores between lr_pipe_2 with lr_pipe in question 4.  Create a pandas dataframe named `comapre_1_df` which encapsulates the comparison data.  comapre_1_df Shall have 2 columns: `model_name` and `auc_score`."
      ]
    },
    {
      "cell_type": "code",
      "metadata": {
        "id": "ZBDJ5c9zLaxa"
      },
      "source": [
        "# your optimized model code here\n",
        "# example\n",
        "# alpha = 0.1\n",
        "# lambda = 0.1\n",
        "\n",
        "lambda_par = 0.01\n",
        "alpha_par = 0.2\n",
        "\n",
        "# lr_pipe_2 code here\n",
        "\n",
        "lr_2 = LogisticRegression().\\\n",
        "      setLabelCol('target').\\\n",
        "      setFeaturesCol('tfidf').\\\n",
        "      setRegParam(lambda_par).\\\n",
        "      setMaxIter(100).\\\n",
        "      setElasticNetParam(alpha_par)\n",
        "\n",
        "lr_pipe_2 = Pipeline(stages=[tweets_pre_proc_pipe, lr_2])\n",
        "\n",
        "evaluator = BinaryClassificationEvaluator(rawPredictionCol='prediction', labelCol='target', metricName='areaUnderROC')\n",
        "auc_2 = evaluator.evaluate(lr_pipe_2.fit(training_df).transform(validation_df))\n",
        "\n",
        "model_name = [\"LogisticRegression\", \"LogisticRegression_2\"]\n",
        "auc_score = [auc, auc_2]\n",
        "comapre_1_df = pd.DataFrame({\"model_name\" : model_name, \"auc_score\": auc_score})\n"
      ],
      "execution_count": 74,
      "outputs": []
    },
    {
      "cell_type": "code",
      "metadata": {
        "id": "DOLLsCixLaxd",
        "outputId": "62b12572-493d-4a86-bb1b-21a1211212b7",
        "colab": {
          "base_uri": "https://localhost:8080/",
          "height": 106
        }
      },
      "source": [
        "# grading cell - do not modify\n",
        "display(comapre_1_df)"
      ],
      "execution_count": 75,
      "outputs": [
        {
          "output_type": "display_data",
          "data": {
            "text/html": [
              "<div>\n",
              "<style scoped>\n",
              "    .dataframe tbody tr th:only-of-type {\n",
              "        vertical-align: middle;\n",
              "    }\n",
              "\n",
              "    .dataframe tbody tr th {\n",
              "        vertical-align: top;\n",
              "    }\n",
              "\n",
              "    .dataframe thead th {\n",
              "        text-align: right;\n",
              "    }\n",
              "</style>\n",
              "<table border=\"1\" class=\"dataframe\">\n",
              "  <thead>\n",
              "    <tr style=\"text-align: right;\">\n",
              "      <th></th>\n",
              "      <th>model_name</th>\n",
              "      <th>auc_score</th>\n",
              "    </tr>\n",
              "  </thead>\n",
              "  <tbody>\n",
              "    <tr>\n",
              "      <th>0</th>\n",
              "      <td>LogisticRegression</td>\n",
              "      <td>0.717072</td>\n",
              "    </tr>\n",
              "    <tr>\n",
              "      <th>1</th>\n",
              "      <td>LogisticRegression_2</td>\n",
              "      <td>0.751222</td>\n",
              "    </tr>\n",
              "  </tbody>\n",
              "</table>\n",
              "</div>"
            ],
            "text/plain": [
              "             model_name  auc_score\n",
              "0    LogisticRegression   0.717072\n",
              "1  LogisticRegression_2   0.751222"
            ]
          },
          "metadata": {
            "tags": []
          }
        }
      ]
    },
    {
      "cell_type": "markdown",
      "metadata": {
        "id": "o50ktz7wLaxg"
      },
      "source": [
        "##### Grading Feedback Cell"
      ]
    },
    {
      "cell_type": "markdown",
      "metadata": {
        "id": "R5Zbh00RLaxh"
      },
      "source": [
        "# Question 7 (10 pts)\n",
        "Perform inference on lr_pipe_2.  Write code to report how many words were eliminated from the best model in question 6b above (if any) as compared to the model in question 4 above.  Make sure your output is easy for the graders to find and interpret."
      ]
    },
    {
      "cell_type": "code",
      "metadata": {
        "id": "faut3chcLaxi",
        "outputId": "ce7dfce4-1dfd-4741-e99d-5527b3097c64",
        "colab": {
          "base_uri": "https://localhost:8080/",
          "height": 34
        }
      },
      "source": [
        "# your code here\n",
        "vocabulary_1 = tweets_pre_proc_pipe.stages[-2].vocabulary\n",
        "print(\"words eliminated: \", len(vocabulary_1)-len(vocabulary))"
      ],
      "execution_count": 78,
      "outputs": [
        {
          "output_type": "stream",
          "text": [
            "words eliminated:  0\n"
          ],
          "name": "stdout"
        }
      ]
    },
    {
      "cell_type": "markdown",
      "metadata": {
        "id": "R9AhLgqdLaxm"
      },
      "source": [
        "##### Grading Feedback Cell"
      ]
    },
    {
      "cell_type": "markdown",
      "metadata": {
        "id": "jzt2THsTLaxn"
      },
      "source": [
        "# Question 8 (10 pts)\n",
        "Perform the same inference analysis that you did in question 5 but name the data frames `lr_pipe_df_neg_1` and `lr_pipe_df_pos_1`.  Compare the word importance results with the results in question 5."
      ]
    },
    {
      "cell_type": "code",
      "metadata": {
        "id": "mimgikR0Laxo"
      },
      "source": [
        "# your code here\n",
        "weights_1 = lr_pipe_2.fit(training_df).stages[-1].coefficients.toArray()\n",
        "coeffs_df_1 = pd.DataFrame({'word': vocabulary_1, 'score': weights_1})\n",
        "\n",
        "lr_pipe_df_pos_1 = coeffs_df_1.sort_values('score').head(10)\n",
        "lr_pipe_df_neg_1 = coeffs_df_1.sort_values('score', ascending=False).head(10)"
      ],
      "execution_count": 85,
      "outputs": []
    },
    {
      "cell_type": "code",
      "metadata": {
        "id": "5e5kWWAfLaxs",
        "outputId": "753f3d92-66a0-4600-d9f4-8f1b41255131",
        "colab": {
          "base_uri": "https://localhost:8080/",
          "height": 670
        }
      },
      "source": [
        "# grading cell - do not modify\n",
        "display(lr_pipe_df_neg_1)\n",
        "display(lr_pipe_df_pos_1)"
      ],
      "execution_count": 86,
      "outputs": [
        {
          "output_type": "display_data",
          "data": {
            "text/html": [
              "<div>\n",
              "<style scoped>\n",
              "    .dataframe tbody tr th:only-of-type {\n",
              "        vertical-align: middle;\n",
              "    }\n",
              "\n",
              "    .dataframe tbody tr th {\n",
              "        vertical-align: top;\n",
              "    }\n",
              "\n",
              "    .dataframe thead th {\n",
              "        text-align: right;\n",
              "    }\n",
              "</style>\n",
              "<table border=\"1\" class=\"dataframe\">\n",
              "  <thead>\n",
              "    <tr style=\"text-align: right;\">\n",
              "      <th></th>\n",
              "      <th>word</th>\n",
              "      <th>score</th>\n",
              "    </tr>\n",
              "  </thead>\n",
              "  <tbody>\n",
              "    <tr>\n",
              "      <th>29</th>\n",
              "      <td>thanks</td>\n",
              "      <td>0.334878</td>\n",
              "    </tr>\n",
              "    <tr>\n",
              "      <th>195</th>\n",
              "      <td>welcome</td>\n",
              "      <td>0.328552</td>\n",
              "    </tr>\n",
              "    <tr>\n",
              "      <th>82</th>\n",
              "      <td>thank</td>\n",
              "      <td>0.321742</td>\n",
              "    </tr>\n",
              "    <tr>\n",
              "      <th>10258</th>\n",
              "      <td>bruno</td>\n",
              "      <td>0.298440</td>\n",
              "    </tr>\n",
              "    <tr>\n",
              "      <th>6507</th>\n",
              "      <td>wiff</td>\n",
              "      <td>0.262468</td>\n",
              "    </tr>\n",
              "    <tr>\n",
              "      <th>3552</th>\n",
              "      <td>peaceful</td>\n",
              "      <td>0.262105</td>\n",
              "    </tr>\n",
              "    <tr>\n",
              "      <th>4</th>\n",
              "      <td>good</td>\n",
              "      <td>0.247950</td>\n",
              "    </tr>\n",
              "    <tr>\n",
              "      <th>52</th>\n",
              "      <td>happy</td>\n",
              "      <td>0.241649</td>\n",
              "    </tr>\n",
              "    <tr>\n",
              "      <th>8929</th>\n",
              "      <td>pies</td>\n",
              "      <td>0.238944</td>\n",
              "    </tr>\n",
              "    <tr>\n",
              "      <th>131</th>\n",
              "      <td>glad</td>\n",
              "      <td>0.238238</td>\n",
              "    </tr>\n",
              "  </tbody>\n",
              "</table>\n",
              "</div>"
            ],
            "text/plain": [
              "           word     score\n",
              "29       thanks  0.334878\n",
              "195     welcome  0.328552\n",
              "82        thank  0.321742\n",
              "10258     bruno  0.298440\n",
              "6507       wiff  0.262468\n",
              "3552   peaceful  0.262105\n",
              "4          good  0.247950\n",
              "52        happy  0.241649\n",
              "8929       pies  0.238944\n",
              "131        glad  0.238238"
            ]
          },
          "metadata": {
            "tags": []
          }
        },
        {
          "output_type": "display_data",
          "data": {
            "text/html": [
              "<div>\n",
              "<style scoped>\n",
              "    .dataframe tbody tr th:only-of-type {\n",
              "        vertical-align: middle;\n",
              "    }\n",
              "\n",
              "    .dataframe tbody tr th {\n",
              "        vertical-align: top;\n",
              "    }\n",
              "\n",
              "    .dataframe thead th {\n",
              "        text-align: right;\n",
              "    }\n",
              "</style>\n",
              "<table border=\"1\" class=\"dataframe\">\n",
              "  <thead>\n",
              "    <tr style=\"text-align: right;\">\n",
              "      <th></th>\n",
              "      <th>word</th>\n",
              "      <th>score</th>\n",
              "    </tr>\n",
              "  </thead>\n",
              "  <tbody>\n",
              "    <tr>\n",
              "      <th>50</th>\n",
              "      <td>sad</td>\n",
              "      <td>-0.544162</td>\n",
              "    </tr>\n",
              "    <tr>\n",
              "      <th>80</th>\n",
              "      <td>sick</td>\n",
              "      <td>-0.365258</td>\n",
              "    </tr>\n",
              "    <tr>\n",
              "      <th>203</th>\n",
              "      <td>missing</td>\n",
              "      <td>-0.358596</td>\n",
              "    </tr>\n",
              "    <tr>\n",
              "      <th>242</th>\n",
              "      <td>hurts</td>\n",
              "      <td>-0.356169</td>\n",
              "    </tr>\n",
              "    <tr>\n",
              "      <th>208</th>\n",
              "      <td>poor</td>\n",
              "      <td>-0.350076</td>\n",
              "    </tr>\n",
              "    <tr>\n",
              "      <th>39</th>\n",
              "      <td>miss</td>\n",
              "      <td>-0.349115</td>\n",
              "    </tr>\n",
              "    <tr>\n",
              "      <th>42</th>\n",
              "      <td>wish</td>\n",
              "      <td>-0.344449</td>\n",
              "    </tr>\n",
              "    <tr>\n",
              "      <th>640</th>\n",
              "      <td>sadly</td>\n",
              "      <td>-0.343648</td>\n",
              "    </tr>\n",
              "    <tr>\n",
              "      <th>509</th>\n",
              "      <td>lonely</td>\n",
              "      <td>-0.320394</td>\n",
              "    </tr>\n",
              "    <tr>\n",
              "      <th>177</th>\n",
              "      <td>sucks</td>\n",
              "      <td>-0.315980</td>\n",
              "    </tr>\n",
              "  </tbody>\n",
              "</table>\n",
              "</div>"
            ],
            "text/plain": [
              "        word     score\n",
              "50       sad -0.544162\n",
              "80      sick -0.365258\n",
              "203  missing -0.358596\n",
              "242    hurts -0.356169\n",
              "208     poor -0.350076\n",
              "39      miss -0.349115\n",
              "42      wish -0.344449\n",
              "640    sadly -0.343648\n",
              "509   lonely -0.320394\n",
              "177    sucks -0.315980"
            ]
          },
          "metadata": {
            "tags": []
          }
        }
      ]
    },
    {
      "cell_type": "markdown",
      "metadata": {
        "id": "ToxXXaH1Laxw"
      },
      "source": [
        "##### Grading Feedback Cell"
      ]
    },
    {
      "cell_type": "markdown",
      "metadata": {
        "id": "RgR_iqATLaxw"
      },
      "source": [
        "Your explanation here:"
      ]
    },
    {
      "cell_type": "markdown",
      "metadata": {
        "id": "OM48pp51Laxx"
      },
      "source": [
        "##### Grading Feedback Cell"
      ]
    },
    {
      "cell_type": "markdown",
      "metadata": {
        "id": "xXFb3lOgLaxy"
      },
      "source": [
        "# Question 9 (10 pts)\n",
        "Create a receiver operating characteristic (ROC) plot for the best model in question 6.  Briefly describe in words the high level steps needed to build a ROC curve as outlined in lecture.  Convince me you understand the high level steps needed to make a ROC curve."
      ]
    },
    {
      "cell_type": "code",
      "metadata": {
        "id": "_l3exQ1MLaxy",
        "outputId": "4f8b1265-2d52-4977-f50a-9e1672b6286b",
        "colab": {
          "base_uri": "https://localhost:8080/",
          "height": 334
        }
      },
      "source": [
        "# your code here\n",
        "import matplotlib.pyplot as plt\n",
        "plt.figure(figsize=(5,5))\n",
        "plt.plot([0, 1], [0, 1], 'r--')\n",
        "plt.plot(best_model.stages[-1].summary.roc.select('FPR').collect(),\n",
        "         best_model.stages[-1].summary.roc.select('TPR').collect())\n",
        "plt.xlabel('FPR')\n",
        "plt.ylabel('TPR')\n",
        "plt.show()\n"
      ],
      "execution_count": 90,
      "outputs": [
        {
          "output_type": "display_data",
          "data": {
            "image/png": "[encoded data removed]",
            "text/plain": [
              "<Figure size 360x360 with 1 Axes>"
            ]
          },
          "metadata": {
            "tags": [],
            "needs_background": "light"
          }
        }
      ]
    },
    {
      "cell_type": "markdown",
      "metadata": {
        "id": "A8zP8Ck1Lax1"
      },
      "source": [
        "Your explanation here:"
      ]
    },
    {
      "cell_type": "markdown",
      "metadata": {
        "id": "-X2ej5H8Lax2"
      },
      "source": [
        "##### Grading Feedback Cell"
      ]
    },
    {
      "cell_type": "markdown",
      "metadata": {
        "id": "tibXPvoxLax2"
      },
      "source": [
        "# Question 10 (10 pts)\n",
        "Learn about [precision/recall](https://en.wikipedia.org/wiki/Precision_and_recall) curves. Using the logistic regression summary object contained in the linear regression object within lr_pipe_2, create a precision recall plot. Similar to the `roc` object which is available in the logistic regression summary, there is a `pr` object which can be used to help create a precision / recall curve.  Note that the precision recall curve is built using the same high level methodology as the ROC curve, but using different metrics calculated from the confusion matrix.  If you understand how a ROC curve is built, you understand how a precision / recall curve is built.  Compare and contrast the differences between precision / recall and ROC curves.  What axis is common and what axis is different between the 2 curves?"
      ]
    },
    {
      "cell_type": "code",
      "metadata": {
        "id": "lhs_UaTrLax3",
        "outputId": "43ad7cf7-d5c1-403d-d56f-2924eb1e88ee",
        "colab": {
          "base_uri": "https://localhost:8080/",
          "height": 334
        }
      },
      "source": [
        "# your code here\n",
        "plt.figure(figsize=(5,5))\n",
        "plt.plot(best_model.stages[-1].summary.pr.select('recall').collect(),\n",
        "         best_model.stages[-1].summary.pr.select('precision').collect())\n",
        "plt.xlabel('Recall')\n",
        "plt.ylabel('Precision')\n",
        "plt.show()\n"
      ],
      "execution_count": 96,
      "outputs": [
        {
          "output_type": "display_data",
          "data": {
            "image/png": "[encoded data removed]",
            "text/plain": [
              "<Figure size 360x360 with 1 Axes>"
            ]
          },
          "metadata": {
            "tags": [],
            "needs_background": "light"
          }
        }
      ]
    },
    {
      "cell_type": "code",
      "metadata": {
        "id": "vZqozT_E4nYX",
        "outputId": "d81bbe1b-04ae-4ee2-f79c-db044a80644a",
        "colab": {
          "base_uri": "https://localhost:8080/",
          "height": 1000
        }
      },
      "source": [
        "best_model.stages[-1].summary.pr.select('precision').collect()"
      ],
      "execution_count": 93,
      "outputs": [
        {
          "output_type": "execute_result",
          "data": {
            "text/plain": [
              "[Row(precision=0.9867172675521821),\n",
              " Row(precision=0.9867172675521821),\n",
              " Row(precision=0.9864077669902913),\n",
              " Row(precision=0.9786269430051814),\n",
              " Row(precision=0.97568093385214),\n",
              " Row(precision=0.9759969028261711),\n",
              " Row(precision=0.9731738849385908),\n",
              " Row(precision=0.9716097023153253),\n",
              " Row(precision=0.9690014197823),\n",
              " Row(precision=0.9666103127641589),\n",
              " Row(precision=0.9635704749189395),\n",
              " Row(precision=0.9603201634877384),\n",
              " Row(precision=0.9561074664167448),\n",
              " Row(precision=0.9537304800462695),\n",
              " Row(precision=0.9501750605978992),\n",
              " Row(precision=0.9476787030213707),\n",
              " Row(precision=0.9452891038931122),\n",
              " Row(precision=0.9423076923076923),\n",
              " Row(precision=0.9393131727319324),\n",
              " Row(precision=0.9372892784895482),\n",
              " Row(precision=0.9328453796889296),\n",
              " Row(precision=0.9307967536434244),\n",
              " Row(precision=0.9280479680213192),\n",
              " Row(precision=0.9246878457404774),\n",
              " Row(precision=0.9224514380364403),\n",
              " Row(precision=0.920604099244876),\n",
              " Row(precision=0.9171278267404522),\n",
              " Row(precision=0.9147940691927512),\n",
              " Row(precision=0.9105356464480182),\n",
              " Row(precision=0.9069610961585515),\n",
              " Row(precision=0.9025732031943212),\n",
              " Row(precision=0.8996901182141628),\n",
              " Row(precision=0.8954786646031395),\n",
              " Row(precision=0.8913171567839734),\n",
              " Row(precision=0.8870249559904733),\n",
              " Row(precision=0.8829091640680012),\n",
              " Row(precision=0.8771281253040178),\n",
              " Row(precision=0.8726568770952359),\n",
              " Row(precision=0.8683423099940155),\n",
              " Row(precision=0.8638766914598083),\n",
              " Row(precision=0.8589088367623291),\n",
              " Row(precision=0.8541666666666666),\n",
              " Row(precision=0.8488145972113037),\n",
              " Row(precision=0.8419700557941637),\n",
              " Row(precision=0.8352170862888768),\n",
              " Row(precision=0.8302209713611988),\n",
              " Row(precision=0.80778730703259),\n",
              " Row(precision=0.8043729204861818),\n",
              " Row(precision=0.7978790389395195),\n",
              " Row(precision=0.7915571562996853),\n",
              " Row(precision=0.7857461166284696),\n",
              " Row(precision=0.7799156645322505),\n",
              " Row(precision=0.7740778217275319),\n",
              " Row(precision=0.7668761463751992),\n",
              " Row(precision=0.7609929078014185),\n",
              " Row(precision=0.7548540867341007),\n",
              " Row(precision=0.7483776907464051),\n",
              " Row(precision=0.7418492784607162),\n",
              " Row(precision=0.7359510086455331),\n",
              " Row(precision=0.7297054009819968),\n",
              " Row(precision=0.7231574708014499),\n",
              " Row(precision=0.7168101854297638),\n",
              " Row(precision=0.710158870485452),\n",
              " Row(precision=0.7033282130056323),\n",
              " Row(precision=0.696426771494809),\n",
              " Row(precision=0.689477995383126),\n",
              " Row(precision=0.6840609535009065),\n",
              " Row(precision=0.677784755096126),\n",
              " Row(precision=0.671823599523242),\n",
              " Row(precision=0.6637829980775543),\n",
              " Row(precision=0.6578289838978345),\n",
              " Row(precision=0.6517918283496918),\n",
              " Row(precision=0.6462284361258316),\n",
              " Row(precision=0.6390989147838463),\n",
              " Row(precision=0.6334183224898893),\n",
              " Row(precision=0.6278286930460844),\n",
              " Row(precision=0.6222799261770892),\n",
              " Row(precision=0.6165510805709317),\n",
              " Row(precision=0.6107118161054418),\n",
              " Row(precision=0.6051873795860869),\n",
              " Row(precision=0.5973575826774864),\n",
              " Row(precision=0.5916713698298799),\n",
              " Row(precision=0.5860075742475583),\n",
              " Row(precision=0.580916135902037),\n",
              " Row(precision=0.5758521784940782),\n",
              " Row(precision=0.5704580108471174),\n",
              " Row(precision=0.5654457260713467),\n",
              " Row(precision=0.5603438503684111),\n",
              " Row(precision=0.555246088565714),\n",
              " Row(precision=0.550566372991782),\n",
              " Row(precision=0.545984598459846),\n",
              " Row(precision=0.541347376066824),\n",
              " Row(precision=0.5367616650184303),\n",
              " Row(precision=0.5323002938819129),\n",
              " Row(precision=0.5279082082965578),\n",
              " Row(precision=0.5236062763482429),\n",
              " Row(precision=0.519481870675753),\n",
              " Row(precision=0.51525516956873),\n",
              " Row(precision=0.5110429447852761),\n",
              " Row(precision=0.5069872758917859),\n",
              " Row(precision=0.5029993297587131),\n",
              " Row(precision=0.49960893947714374)]"
            ]
          },
          "metadata": {
            "tags": []
          },
          "execution_count": 93
        }
      ]
    },
    {
      "cell_type": "markdown",
      "metadata": {
        "id": "KCrok2bLLax6"
      },
      "source": [
        "Your explanation here:"
      ]
    },
    {
      "cell_type": "markdown",
      "metadata": {
        "id": "qSbOGLPTLax7"
      },
      "source": [
        "##### Grading Feedback Cell"
      ]
    }
  ]
}